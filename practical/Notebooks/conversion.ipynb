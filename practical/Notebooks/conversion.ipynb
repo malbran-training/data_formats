{
 "cells": [
  {
   "cell_type": "markdown",
   "metadata": {},
   "source": [
    "# Converting between formats\n",
    "In this section we are going to look at how to convert from one data format to another. There are many tools available for converting between formats, and we will use some of the most common ones: `samtools`, `bcftools` and `Picard`. Although it might not be obvious yet how this is useful, the tasks are a good way to become familiar with and understand the different option for the `samtools` and `bcftools`. \n",
    "\n",
    "## SAM/BAM\n",
    "To convert between SAM and BAM formats you can use the __`samtools view`__ command.\n",
    "\n",
    "To convert a BAM file to a SAM file try:"
   ]
  },
  {
   "cell_type": "code",
   "execution_count": null,
   "metadata": {},
   "outputs": [],
   "source": [
    "samtools view -h NA20538.bam > NA20538.sam"
   ]
  },
  {
   "cell_type": "markdown",
   "metadata": {},
   "source": [
    "Note we use the __`-h`__ option here to include the header in the SAM file. Now, have a look at the first five lines of the SAM file. "
   ]
  },
  {
   "cell_type": "code",
   "execution_count": null,
   "metadata": {},
   "outputs": [],
   "source": [
    "head -5 NA20538.sam"
   ]
  },
  {
   "cell_type": "markdown",
   "metadata": {},
   "source": [
    "Well that was easy! And converting SAM to BAM is just as straightforward, try:"
   ]
  },
  {
   "cell_type": "code",
   "execution_count": null,
   "metadata": {},
   "outputs": [],
   "source": [
    "samtools view -b NA20538.sam > NA20538_2.bam"
   ]
  },
  {
   "cell_type": "markdown",
   "metadata": {},
   "source": [
    "This time there is no need for the __`-h`__ option, however we have to tell `samtools` that we want the output in BAM format. We do this by adding the __`-b`__ option. Note we have called the file `NA20538_2.bam` so that the original `NA20538.bam` file is not overwritten.\n",
    "\n",
    "Check the conversion was successful. \n",
    "\n",
    "First check the header section:"
   ]
  },
  {
   "cell_type": "code",
   "execution_count": null,
   "metadata": {},
   "outputs": [],
   "source": [
    "samtools view -h NA20538_2.bam | head -5"
   ]
  },
  {
   "cell_type": "markdown",
   "metadata": {},
   "source": [
    "Then check the alignment section:"
   ]
  },
  {
   "cell_type": "code",
   "execution_count": null,
   "metadata": {},
   "outputs": [],
   "source": [
    "samtools view NA20538_2.bam | head -5"
   ]
  },
  {
   "cell_type": "markdown",
   "metadata": {},
   "source": [
    "## BAM/CRAM\n",
    "The __`samtools view`__ command can also be used to convert betwen BAM and CRAM formats. In the data directory there is a BAM file called `yeast.bam` that was created by aligning _S. cerevisiae_ Illumina data to the reference genome `Saccharomyces_cerevisiae.EF4.68.dna.toplevel.fa`.\n",
    "\n",
    "To convert a BAM to a CRAM, try "
   ]
  },
  {
   "cell_type": "code",
   "execution_count": null,
   "metadata": {},
   "outputs": [],
   "source": [
    "samtools view -C -T Saccharomyces_cerevisiae.EF4.68.dna.toplevel.fa \\\n",
    "-o yeast.cram yeast.bam"
   ]
  },
  {
   "cell_type": "markdown",
   "metadata": {},
   "source": [
    "Here, we use the __`-C`__ option to tell `samtools` we want the output as CRAM, and the __`-T`__ option to specify what reference file to use for the conversion. We also use the __`-o`__ option to specify the name of the output file."
   ]
  },
  {
   "cell_type": "markdown",
   "metadata": {},
   "source": [
    "Have a look at what files were created:"
   ]
  },
  {
   "cell_type": "code",
   "execution_count": null,
   "metadata": {},
   "outputs": [],
   "source": [
    "ls -l"
   ]
  },
  {
   "cell_type": "markdown",
   "metadata": {},
   "source": [
    "As you can see, this has created an index file for the reference genome called `Saccharomyces_cerevisiae.EF4.68.dna.toplevel.fa.fai` and the CRAM file `yeast.cram`."
   ]
  },
  {
   "cell_type": "markdown",
   "metadata": {},
   "source": [
    "Check the conversion was successful:"
   ]
  },
  {
   "cell_type": "code",
   "execution_count": null,
   "metadata": {},
   "outputs": [],
   "source": [
    "samtools view yeast.cram | head -5"
   ]
  },
  {
   "cell_type": "markdown",
   "metadata": {},
   "source": [
    "### Exercises\n",
    "\n",
    "__Q1: Since CRAM files use reference-based compression, we expect the CRAM file to be smaller than the BAM file. What is the size of the CRAM file?__  "
   ]
  },
  {
   "cell_type": "code",
   "execution_count": null,
   "metadata": {},
   "outputs": [],
   "source": []
  },
  {
   "cell_type": "markdown",
   "metadata": {},
   "source": [
    "__Q2: Why do we need to provide the reference genome when converting to CRAM format?__ "
   ]
  },
  {
   "cell_type": "code",
   "execution_count": null,
   "metadata": {},
   "outputs": [],
   "source": []
  },
  {
   "cell_type": "markdown",
   "metadata": {},
   "source": [
    "__Q3: Convert the CRAM file back to a BAM file called yeast_2.bam?__ "
   ]
  },
  {
   "cell_type": "code",
   "execution_count": null,
   "metadata": {},
   "outputs": [],
   "source": []
  },
  {
   "cell_type": "markdown",
   "metadata": {},
   "source": [
    "## FASTQ to SAM/BAM/CRAM\n",
    "SAM format is mainly used to store alignment data, however in some cases we may want to store the unaligned data in SAM format and for this we can use the picard tools __`FastqToSam`__ application. [Picard tools](https://broadinstitute.github.io/picard/) is a Java application with a number of useful options for manipulating sequence data. \n",
    "\n",
    "To convert the FASTQ files from sequencing run 13681_1_18 to unaligned SAM format, try: "
   ]
  },
  {
   "cell_type": "code",
   "execution_count": null,
   "metadata": {},
   "outputs": [],
   "source": [
    "picard FastqToSam F1=13681_1_18_1.fastq.gz F2=13681_1_18_2.fastq.gz \\\n",
    "O=13681_1_18.sam SM=13681_1_18"
   ]
  },
  {
   "cell_type": "markdown",
   "metadata": {},
   "source": [
    "Here, the __`F1`__ and __`F2`__ options are the paired end FASTQ files, the __`O`__ option is used to specify the name of the output SAM file and __`SM`__ is the sample name which will be stored in the header of the SAM file. There are also multiple other options for specifying what metadata to include in the SAM header. To see all available options, run:"
   ]
  },
  {
   "cell_type": "code",
   "execution_count": null,
   "metadata": {},
   "outputs": [],
   "source": [
    "picard FastqToSam -h"
   ]
  },
  {
   "cell_type": "markdown",
   "metadata": {},
   "source": [
    "Check the conversion was successful:"
   ]
  },
  {
   "cell_type": "code",
   "execution_count": null,
   "metadata": {},
   "outputs": [],
   "source": [
    "head -5 13681_1_18.sam"
   ]
  },
  {
   "cell_type": "markdown",
   "metadata": {},
   "source": [
    "From here you can convert the SAM file to BAM and CRAM, as described previously. "
   ]
  },
  {
   "cell_type": "markdown",
   "metadata": {},
   "source": [
    "## CRAM to FASTQ\n",
    "The __`samtools fastq`__ command can be used to convert CRAM to FASTQ directly. However, for many applications we need the FASTQ files ordered so that the order of the reads in the first file match the order of the reads in the second file. This is to allow the reads in a fragment to be matched up based on their location in the FASTQ file. For this reason, we first use __`samtools collate`__ to produce a collated BAM file which ensures that reads of the same name (and therefore from the same fragment) are grouped together in contiguous groups."
   ]
  },
  {
   "cell_type": "code",
   "execution_count": null,
   "metadata": {},
   "outputs": [],
   "source": [
    "samtools collate yeast.cram yeast.collated"
   ]
  },
  {
   "cell_type": "markdown",
   "metadata": {},
   "source": [
    "Have a look at what files were created:"
   ]
  },
  {
   "cell_type": "code",
   "execution_count": null,
   "metadata": {},
   "outputs": [],
   "source": [
    "ls"
   ]
  },
  {
   "cell_type": "markdown",
   "metadata": {},
   "source": [
    "The newly produced BAM file will be called `yeast.collated.bam`. Have a look at the contents and notice how the order of the reads differs from the `yeast.cram` file:"
   ]
  },
  {
   "cell_type": "code",
   "execution_count": null,
   "metadata": {},
   "outputs": [],
   "source": [
    "samtools view yeast.collated.bam | head -6"
   ]
  },
  {
   "cell_type": "markdown",
   "metadata": {},
   "source": [
    "Let's use this to create two FASTQ files, one for the first reads of the fragment and one for the second reads of the fragment:"
   ]
  },
  {
   "cell_type": "code",
   "execution_count": null,
   "metadata": {},
   "outputs": [],
   "source": [
    "samtools fastq -N -1 yeast.collated_1.fastq -2 yeast.collated_2.fastq \\\n",
    "yeast.collated.bam"
   ]
  },
  {
   "cell_type": "markdown",
   "metadata": {},
   "source": [
    "Here, we use the __`-N`__ option to tell `samtools` to include the /1 and /2 in the read name.\n",
    "\n",
    "Check the conversion was succesful:"
   ]
  },
  {
   "cell_type": "code",
   "execution_count": null,
   "metadata": {},
   "outputs": [],
   "source": [
    "head -4 yeast.collated_1.fastq\n",
    "head -4 yeast.collated_2.fastq"
   ]
  },
  {
   "cell_type": "markdown",
   "metadata": {},
   "source": [
    "## VCF/BCF\n",
    "In a similar way that __`samtools view`__ can be used to convert between SAM, BAM and CRAM, __`bcftools view`__ can be used to convert between VCF and BCF. \n",
    "\n",
    "To convert a BCF file to a VCF file try:"
   ]
  },
  {
   "cell_type": "code",
   "execution_count": null,
   "metadata": {},
   "outputs": [],
   "source": [
    "bcftools view -O v -o 1kg.vcf 1kg.bcf"
   ]
  },
  {
   "cell_type": "markdown",
   "metadata": {},
   "source": [
    "The __`-O`__ option allows us to specify in what format we want the output, compressed BCF (b), uncompressed BCF (u), compressed VCF (z) or uncompressed VCF (v). With the __`-o`__ option we can select the name of the output file. \n",
    "\n",
    "Have a look at what files were generated (the options `-lrt` will list the files in reverse chronological order):\n"
   ]
  },
  {
   "cell_type": "code",
   "execution_count": null,
   "metadata": {},
   "outputs": [],
   "source": [
    "ls -lrt"
   ]
  },
  {
   "cell_type": "markdown",
   "metadata": {},
   "source": [
    "Check the conversion was successful:"
   ]
  },
  {
   "cell_type": "code",
   "execution_count": null,
   "metadata": {},
   "outputs": [],
   "source": [
    "bcftools view 1kg.vcf | head -10"
   ]
  },
  {
   "cell_type": "markdown",
   "metadata": {},
   "source": [
    "To convert a VCF file to BCF, try:"
   ]
  },
  {
   "cell_type": "code",
   "execution_count": null,
   "metadata": {},
   "outputs": [],
   "source": [
    "bcftools view -O b -o 1kg_2.bcf 1kg.vcf"
   ]
  },
  {
   "cell_type": "markdown",
   "metadata": {},
   "source": [
    "Note we have called the file `1kg_2.bcf` so that the original `1kg.bcf` file is not overwritten."
   ]
  },
  {
   "cell_type": "markdown",
   "metadata": {},
   "source": [
    "Check the conversion was successful:"
   ]
  },
  {
   "cell_type": "code",
   "execution_count": null,
   "metadata": {},
   "outputs": [],
   "source": [
    "bcftools view 1kg_2.bcf | head -10"
   ]
  },
  {
   "cell_type": "markdown",
   "metadata": {},
   "source": [
    "### Exercises\n",
    "\n",
    "__Q4: Convert the BCF file 1kg.bcf to a compressed VCF file called 1kg.vcf.gz__  "
   ]
  },
  {
   "cell_type": "code",
   "execution_count": null,
   "metadata": {},
   "outputs": [],
   "source": []
  },
  {
   "cell_type": "markdown",
   "metadata": {},
   "source": [
    "__Congratulations__ you have reached the end of the tutorial!"
   ]
  }
 ],
 "metadata": {
  "kernelspec": {
   "display_name": "Bash",
   "language": "bash",
   "name": "bash"
  },
  "language_info": {
   "codemirror_mode": "shell",
   "file_extension": ".sh",
   "mimetype": "text/x-sh",
   "name": "bash"
  }
 },
 "nbformat": 4,
 "nbformat_minor": 2
}
