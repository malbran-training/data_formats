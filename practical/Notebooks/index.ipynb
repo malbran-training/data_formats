{
 "cells": [
  {
   "cell_type": "markdown",
   "metadata": {},
   "source": [
    "# NGS Data Formats\n",
    "\n",
    "## Introduction\n",
    "In this tutorial we will introduce several common data formats used for sequence data. We will cover the following formats:\n",
    "\n",
    "__FASTA__ - This format is used to store nucleotide sequences  \n",
    "__FASTQ__ - This format is used to store nucleotide sequences and corresponding quality scores  \n",
    "__SAM/BAM__ - This format is used to store unaligned or aligned (matched to a reference genome) nucleotide sequences  \n",
    "__CRAM__ - This format is similar to BAM but has better compression than BAM  \n",
    "__VCF/BCF__ - This format is used to store sequence variation (SNPs, indels, structural variations)  \n",
    "__GFF__ - This format is used to store sequence feature information (genes, repeats, tRNAs)\n",
    "\n",
    "## Learning outcomes\n",
    "On completion of the tutorial, you can expect to be able to:\n",
    "\n",
    "* Describe the different data formats used for sequence data (FASTA, FASTQ, SAM/BAM, CRAM, VCF/BCF, GFF)\n",
    "* Perform conversions between the different data formats\n",
    "\n",
    "## Tutorial sections\n",
    "This tutorial comprises the following sections:   \n",
    " 1. [Data formats for NGS](formats.ipynb)  \n",
    " 2. [Converting between formats](conversion.ipynb)\n",
    "  \n",
    "## Authors and License\n",
    "This tutorial was written by [Jacqui Keane](https://github.com/jacquikeane) and [Sara Sjunnebo](https://github.com/ssjunnebo) based on material from [Petr Danecek](https://github.com/pd3) and [Thomas Keane](https://github.com/tk2).\n",
    "\n",
    "The content is licensed under a [Creative Commons Attribution 4.0 International License (CC-By 4.0)](https://creativecommons.org/licenses/by/4.0/).\n",
    "\n",
    "## Running the commands in this tutorial\n",
    "You can follow this tutorial by typing all the commands you see in a terminal window on your computer. Remember, the terminal window is similar to the \"Command Prompt\" window on MS Windows systems, which allows the user to type DOS commands to manage files.\n",
    "\n",
    "To get started, open a terminal window and type the command below followed by the `Enter` key:"
   ]
  },
  {
   "cell_type": "code",
   "execution_count": null,
   "metadata": {},
   "outputs": [],
   "source": [
    "cd ~/course_data/data_formats/data"
   ]
  },
  {
   "cell_type": "markdown",
   "metadata": {},
   "source": [
    "## Prerequisites\n",
    "This tutorial assumes that you have the following software and their dependencies installed on your computer. The software used in this tutorial may be updated from time to time so, we have also given you the version which was used when writing this tutorial.\n",
    "\n",
    "\n",
    "| Package name | Link for download/installation instructions                          | Version |\n",
    "| :----------: | :------------------------------------------------------------------: |:------: |\n",
    "| samtools     | https://github.com/samtools/samtools                                 | 1.17    |\n",
    "| bcftools     | https://github.com/samtools/bcftools                                 | 1.17    |\n",
    "| picard-slim  | https://broadinstitute.github.io/picard/                             | 3.0.0   |"
   ]
  },
  {
   "cell_type": "markdown",
   "metadata": {},
   "source": [
    "The easiest way to install the required software is using `conda`, a software package manager. These software have already been installed on the computer for you. To activate them type:"
   ]
  },
  {
   "cell_type": "code",
   "execution_count": null,
   "metadata": {},
   "outputs": [],
   "source": [
    "conda activate formats"
   ]
  },
  {
   "cell_type": "markdown",
   "metadata": {},
   "source": [
    "After the software is activated type the following commands:"
   ]
  },
  {
   "cell_type": "code",
   "execution_count": null,
   "metadata": {},
   "outputs": [],
   "source": [
    "samtools --help"
   ]
  },
  {
   "cell_type": "code",
   "execution_count": null,
   "metadata": {},
   "outputs": [],
   "source": [
    "bcftools --help"
   ]
  },
  {
   "cell_type": "code",
   "execution_count": null,
   "metadata": {},
   "outputs": [],
   "source": [
    "picard -h"
   ]
  },
  {
   "cell_type": "markdown",
   "metadata": {},
   "source": [
    "This should return the help message for these tools.\n",
    "\n",
    "To get started with the tutorial, go to the first section: [Data formats for NGS](formats.ipynb)"
   ]
  }
 ],
 "metadata": {
  "kernelspec": {
   "display_name": "Bash",
   "language": "bash",
   "name": "bash"
  },
  "language_info": {
   "codemirror_mode": "shell",
   "file_extension": ".sh",
   "mimetype": "text/x-sh",
   "name": "bash"
  }
 },
 "nbformat": 4,
 "nbformat_minor": 2
}
